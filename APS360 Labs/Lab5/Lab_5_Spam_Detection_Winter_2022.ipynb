{
 "cells": [
  {
   "cell_type": "markdown",
   "metadata": {
    "colab_type": "text",
    "id": "_bphECiUa9zw"
   },
   "source": [
    "# Lab 5: Spam Detection\n",
    "\n",
    "**Deadline**: Monday, Mar 14, 5:00 PM\n",
    "\n",
    "**Late Penalty**: Any work that is submitted between 0 hour and 24 hours past the deadline will receive a 20% grade deduction. No other late work is accepted. Quercus submission time will be used, not your local computer time. You can submit your labs as many times as you want before the deadline, so please submit often and early.\n",
    "\n",
    "**TA**: Hossein Yousefi <hossein.yousefi@mail.utoronto.ca>\n",
    "\n",
    "In this assignment, we will build a recurrent neural network to classify a SMS text message\n",
    "as \"spam\" or \"not spam\". In the process, you will\n",
    "    \n",
    "1. Clean and process text data for machine learning.\n",
    "2. Understand and implement a character-level recurrent neural network.\n",
    "3. Use torchtext to build recurrent neural network models.\n",
    "4. Understand batching for a recurrent neural network, and use torchtext to implement RNN batching.\n",
    "\n",
    "### What to submit\n",
    "\n",
    "Submit a PDF file containing all your code, outputs, and write-up. You can produce a PDF of your Google Colab file by going to File > Print and then save as PDF. The Colab instructions have more information (.html files are also acceptable).\n",
    "\n",
    "Do not submit any other files produced by your code.\n",
    "\n",
    "Include a link to your colab file in your submission."
   ]
  },
  {
   "cell_type": "markdown",
   "metadata": {
    "colab_type": "text",
    "id": "rWiUqJJTa9z6"
   },
   "source": [
    "## Colab Link\n",
    "\n",
    "Include a link to your Colab file here. If you would like the TA to look at your\n",
    "Colab file in case your solutions are cut off, **please make sure that your Colab\n",
    "file is publicly accessible at the time of submission**.\n",
    "\n",
    "Colab Link:"
   ]
  },
  {
   "cell_type": "code",
   "execution_count": 55,
   "metadata": {
    "colab": {},
    "colab_type": "code",
    "collapsed": true,
    "id": "HgfNOUaPa9z8",
    "jupyter": {
     "outputs_hidden": true
    }
   },
   "outputs": [],
   "source": [
    "import torch\n",
    "import torch.nn as nn\n",
    "import torch.nn.functional as F\n",
    "import torch.optim as optim\n",
    "import numpy as np"
   ]
  },
  {
   "cell_type": "markdown",
   "metadata": {
    "colab_type": "text",
    "id": "M0jLI9LBa90C"
   },
   "source": [
    "## Part 1. Data Cleaning [15 pt]\n",
    "\n",
    "We will be using the \"SMS Spam Collection Data Set\" available at http://archive.ics.uci.edu/ml/datasets/SMS+Spam+Collection\n",
    "\n",
    "There is a link to download the \"Data Folder\" at the very top of the webpage. Download the zip file, unzip it, and upload the file `SMSSpamCollection` to Colab.    "
   ]
  },
  {
   "cell_type": "markdown",
   "metadata": {
    "colab_type": "text",
    "id": "sSuF7C_Ga90E"
   },
   "source": [
    "### Part (a) [2 pt]\n",
    "\n",
    "Open up the file in Python, and print out one example of a spam SMS, and one example of a non-spam SMS.\n",
    "\n",
    "What is the label value for a spam message, and what is the label value for a non-spam message?"
   ]
  },
  {
   "cell_type": "code",
   "execution_count": 2,
   "metadata": {
    "colab": {},
    "colab_type": "code",
    "collapsed": true,
    "id": "I_IfXHeTa90F",
    "jupyter": {
     "outputs_hidden": true
    }
   },
   "outputs": [
    {
     "name": "stdout",
     "output_type": "stream",
     "text": [
      "ham\tGo until jurong point, crazy.. Available only in bugis n great world la e buffet... Cine there got amore wat...\n",
      "\n",
      "spam\tFree entry in 2 a wkly comp to win FA Cup final tkts 21st May 2005. Text FA to 87121 to receive entry question(std txt rate)T&C's apply 08452810075over18's\n",
      "\n"
     ]
    }
   ],
   "source": [
    "spam_count = 0\n",
    "non_spam_count = 0\n",
    "for line in open('SMSSpamCollection'):\n",
    "    split_line = line.split()\n",
    "    if (split_line[0] == \"ham\" and not non_spam_count):\n",
    "        non_spam_count += 1\n",
    "        print(line)\n",
    "    elif (split_line[0] == \"spam\" and not spam_count):\n",
    "        spam_count += 1\n",
    "        print(line)\n",
    "    elif (spam_count and non_spam_count):\n",
    "        break\n",
    "    "
   ]
  },
  {
   "cell_type": "markdown",
   "metadata": {
    "colab_type": "text",
    "id": "AukA6vMVa90d"
   },
   "source": [
    "### Part (b) [1 pt]\n",
    "\n",
    "How many spam messages are there in the data set?\n",
    "How many non-spam messages are there in the data set?\n"
   ]
  },
  {
   "cell_type": "code",
   "execution_count": 56,
   "metadata": {
    "colab": {},
    "colab_type": "code",
    "collapsed": true,
    "id": "LgsqyemVa90e",
    "jupyter": {
     "outputs_hidden": true
    }
   },
   "outputs": [
    {
     "name": "stdout",
     "output_type": "stream",
     "text": [
      "SPAM = 747 NON-SPAM = 4827\n"
     ]
    }
   ],
   "source": [
    "spam_count = 0\n",
    "non_spam_count = 0\n",
    "for line in open('SMSSpamCollection'):\n",
    "    split_line = line.split()\n",
    "    if (split_line[0] == \"ham\"):\n",
    "        non_spam_count += 1\n",
    "    elif (split_line[0] == \"spam\"):\n",
    "        spam_count += 1\n",
    "\n",
    "print(\"SPAM = \" + str(spam_count) + \" NON-SPAM = \" + str(non_spam_count))"
   ]
  },
  {
   "cell_type": "markdown",
   "metadata": {
    "colab_type": "text",
    "id": "d1WXxVt6a90h"
   },
   "source": [
    "### Part (c) [4 pt]\n",
    "\n",
    "We will be using the package `torchtext` to load, process, and batch the data.\n",
    "A tutorial to torchtext is available below. This tutorial uses the same\n",
    "Sentiment140 data set that we explored during lecture.\n",
    "\n",
    "https://medium.com/@sonicboom8/sentiment-analysis-torchtext-55fb57b1fab8\n",
    "\n",
    "Unlike what we did during lecture, we will be building a **character level RNN**.\n",
    "That is, we will treat each **character** as a token in our sequence,\n",
    "rather than each **word**.\n",
    "\n",
    "Identify two advantage and two disadvantage of modelling SMS text\n",
    "messages as a sequence of characters rather than a sequence of words."
   ]
  },
  {
   "cell_type": "code",
   "execution_count": 25,
   "metadata": {
    "colab": {},
    "colab_type": "code",
    "collapsed": true,
    "id": "Mhnz8Nk-a90i",
    "jupyter": {
     "outputs_hidden": true
    }
   },
   "outputs": [],
   "source": [
    "# Advantages: model will be able to be more specific with certain characters that are used in spam messages, especially as some messages add random characters. Also, will be more attentive to grammar and \n",
    "# can handle abbreviations to words as many text messages have short forms that aren't actually words \n",
    "\n",
    "# Disadvantages: less emphasis on the sentence structure and words used, longer memory required to store the sequence information relationships"
   ]
  },
  {
   "cell_type": "markdown",
   "metadata": {
    "colab_type": "text",
    "id": "ie_D0bv9a90k"
   },
   "source": [
    "### Part (d) [1 pt]\n",
    "\n",
    "We will be loading our data set using `torchtext.data.TabularDataset`. The\n",
    "constructor will read directly from the `SMSSpamCollection` file. \n",
    "\n",
    "For the data file to be read successfuly, we\n",
    "need to specify the **fields** (columns) in the file. \n",
    "In our case, the dataset has two fields: \n",
    "\n",
    "- a text field containing the sms messages,\n",
    "- a label field which will be converted into a binary label.\n",
    "\n",
    "Split the dataset into `train`, `valid`, and `test`. Use a 60-20-20 split.\n",
    "You may find this torchtext API page helpful:\n",
    "https://torchtext.readthedocs.io/en/latest/data.html#dataset\n",
    "\n",
    "Hint: There is a `Dataset` method that can perform the random split for you."
   ]
  },
  {
   "cell_type": "code",
   "execution_count": 13,
   "metadata": {
    "colab": {},
    "colab_type": "code",
    "id": "P_Y6Puz9a90l",
    "tags": []
   },
   "outputs": [
    {
     "name": "stdout",
     "output_type": "stream",
     "text": [
      "Training size: 3343\n",
      "Validation size: 1115\n",
      "Test size: 1115\n"
     ]
    }
   ],
   "source": [
    "import torchtext\n",
    "import random\n",
    "\n",
    "text_field = torchtext.legacy.data.Field(sequential=True,      # text sequence\n",
    "                                  tokenize=lambda x: x, # because are building a character-RNN\n",
    "                                  include_lengths=True, # to track the length of sequences, for batching\n",
    "                                  batch_first=True,\n",
    "                                  use_vocab=True)       # to turn each character into an integer index\n",
    "label_field = torchtext.legacy.data.Field(sequential=False,    # not a sequence\n",
    "                                   use_vocab=False,     # don't need to track vocabulary\n",
    "                                   is_target=True,      \n",
    "                                   batch_first=True,\n",
    "                                   preprocessing=lambda x: int(x == 'spam')) # convert text to 0 and 1\n",
    "\n",
    "fields = [('label', label_field), ('sms', text_field)]\n",
    "dataset = torchtext.legacy.data.TabularDataset(\"SMSSpamCollection\", # name of the file\n",
    "                                        \"tsv\",               # fields are separated by a tab\n",
    "                                        fields)\n",
    "\n",
    "# Data object allows us to create objects for each text element in the data, with tags \"sms\" and \"label\" that can be referenced \n",
    "# dataset[0].sms\n",
    "# dataset[0].label\n",
    "train, valid, test = dataset.split(split_ratio=[0.6,0.2,0.2], stratified=True, random_state=random.getstate())\n",
    "print(\"Training size: \" + str(len(train)))\n",
    "print(\"Validation size: \" + str(len(valid)))\n",
    "print(\"Test size: \" + str(len(valid)))"
   ]
  },
  {
   "cell_type": "markdown",
   "metadata": {
    "colab_type": "text",
    "id": "v6nP0Ks_a90o"
   },
   "source": [
    "### Part (e) [2 pt]\n",
    "\n",
    "You saw in part (b) that there are many more non-spam messages than spam messages.\n",
    "This **imbalance** in our training data will be problematic for training.\n",
    "We can fix this disparity by duplicating spam messages in the training set,\n",
    "so that the training set is roughly **balanced**.\n",
    "\n",
    "Explain why having a balanced training set is helpful for training our neural network.\n",
    "\n",
    "Note: if you are not sure, try removing the below code and train your mode."
   ]
  },
  {
   "cell_type": "code",
   "execution_count": 15,
   "metadata": {
    "colab": {},
    "colab_type": "code",
    "collapsed": true,
    "id": "FWvx9_rka90p",
    "jupyter": {
     "outputs_hidden": true
    }
   },
   "outputs": [
    {
     "name": "stdout",
     "output_type": "stream",
     "text": [
      "Training size: 24847\n"
     ]
    }
   ],
   "source": [
    "# save the original training examples\n",
    "old_train_examples = train.examples\n",
    "# get all the spam messages in `train`\n",
    "train_spam = []\n",
    "for item in train.examples:\n",
    "    if item.label == 1:\n",
    "        train_spam.append(item)\n",
    "# duplicate each spam message 6 more times\n",
    "train.examples = old_train_examples + train_spam * 6\n",
    "\n",
    "# The balance between spam and non-spam data is important for training so that the model does not become biased towards one type of result in the binary classification.\n",
    "print(\"Training size: \" + str(len(train)))"
   ]
  },
  {
   "cell_type": "markdown",
   "metadata": {
    "colab_type": "text",
    "id": "j7eUmBEva90r"
   },
   "source": [
    "### Part (f) [1 pt]\n",
    "\n",
    "We need to build the vocabulary on the training data by running the below code.\n",
    "This finds all the possible character tokens in the training set.\n",
    "\n",
    "Explain what the variables `text_field.vocab.stoi` and `text_field.vocab.itos` represent."
   ]
  },
  {
   "cell_type": "code",
   "execution_count": 17,
   "metadata": {
    "colab": {},
    "colab_type": "code",
    "collapsed": true,
    "id": "8CQM8flKa90s",
    "jupyter": {
     "outputs_hidden": true
    }
   },
   "outputs": [
    {
     "data": {
      "text/plain": [
       "defaultdict(<bound method Vocab._default_unk_index of <torchtext.vocab.Vocab object at 0x0000025A65A17E50>>,\n",
       "            {'<unk>': 0,\n",
       "             '<pad>': 1,\n",
       "             ' ': 2,\n",
       "             'e': 3,\n",
       "             'o': 4,\n",
       "             't': 5,\n",
       "             'a': 6,\n",
       "             'r': 7,\n",
       "             'n': 8,\n",
       "             'i': 9,\n",
       "             's': 10,\n",
       "             'l': 11,\n",
       "             '0': 12,\n",
       "             'c': 13,\n",
       "             'u': 14,\n",
       "             'd': 15,\n",
       "             'm': 16,\n",
       "             'h': 17,\n",
       "             '.': 18,\n",
       "             'w': 19,\n",
       "             'p': 20,\n",
       "             'y': 21,\n",
       "             '1': 22,\n",
       "             '2': 23,\n",
       "             '8': 24,\n",
       "             'g': 25,\n",
       "             'T': 26,\n",
       "             'f': 27,\n",
       "             '5': 28,\n",
       "             'E': 29,\n",
       "             'b': 30,\n",
       "             'C': 31,\n",
       "             'S': 32,\n",
       "             '7': 33,\n",
       "             '4': 34,\n",
       "             'v': 35,\n",
       "             'O': 36,\n",
       "             'k': 37,\n",
       "             '3': 38,\n",
       "             'x': 39,\n",
       "             '6': 40,\n",
       "             'N': 41,\n",
       "             'R': 42,\n",
       "             'A': 43,\n",
       "             '9': 44,\n",
       "             '!': 45,\n",
       "             'P': 46,\n",
       "             'I': 47,\n",
       "             'U': 48,\n",
       "             ',': 49,\n",
       "             'M': 50,\n",
       "             'W': 51,\n",
       "             'L': 52,\n",
       "             'F': 53,\n",
       "             '/': 54,\n",
       "             'D': 55,\n",
       "             'G': 56,\n",
       "             'B': 57,\n",
       "             '£': 58,\n",
       "             'H': 59,\n",
       "             'Y': 60,\n",
       "             '-': 61,\n",
       "             'X': 62,\n",
       "             '&': 63,\n",
       "             '?': 64,\n",
       "             ':': 65,\n",
       "             'z': 66,\n",
       "             'V': 67,\n",
       "             \"'\": 68,\n",
       "             'K': 69,\n",
       "             '*': 70,\n",
       "             '+': 71,\n",
       "             'j': 72,\n",
       "             'J': 73,\n",
       "             ')': 74,\n",
       "             '(': 75,\n",
       "             'q': 76,\n",
       "             'Q': 77,\n",
       "             '>': 78,\n",
       "             '=': 79,\n",
       "             '@': 80,\n",
       "             '\"': 81,\n",
       "             ';': 82,\n",
       "             'Z': 83,\n",
       "             '#': 84,\n",
       "             '$': 85,\n",
       "             '<': 86,\n",
       "             '[': 87,\n",
       "             ']': 88,\n",
       "             '_': 89,\n",
       "             '%': 90,\n",
       "             '\\x93': 91,\n",
       "             '¡': 92,\n",
       "             'ü': 93,\n",
       "             '’': 94,\n",
       "             'ú': 95,\n",
       "             'Ü': 96,\n",
       "             '‘': 97,\n",
       "             '\\x92': 98,\n",
       "             '|': 99,\n",
       "             '…': 100,\n",
       "             '\\x96': 101,\n",
       "             'é': 102,\n",
       "             '\\t': 103,\n",
       "             '\\n': 104,\n",
       "             '\\\\': 105,\n",
       "             '~': 106,\n",
       "             '\\x91': 107,\n",
       "             '\\x94': 108,\n",
       "             '^': 109,\n",
       "             'É': 110,\n",
       "             'è': 111,\n",
       "             '–': 112,\n",
       "             '—': 113})"
      ]
     },
     "execution_count": 17,
     "metadata": {},
     "output_type": "execute_result"
    }
   ],
   "source": [
    "# Here we create a vocabulary set for all of the possible characters that can be found from the training set. This is like a dictionary of all the available unique characters from the words\n",
    "# Uses the tokenize function set in the field to build the vocab\n",
    "text_field.build_vocab(train)\n",
    "\n",
    "# stoi - string to index: map the dictionary of characters to a unique integer (index within dict)\n",
    "text_field.vocab.stoi"
   ]
  },
  {
   "cell_type": "code",
   "execution_count": 18,
   "metadata": {},
   "outputs": [
    {
     "data": {
      "text/plain": [
       "['<unk>',\n",
       " '<pad>',\n",
       " ' ',\n",
       " 'e',\n",
       " 'o',\n",
       " 't',\n",
       " 'a',\n",
       " 'r',\n",
       " 'n',\n",
       " 'i',\n",
       " 's',\n",
       " 'l',\n",
       " '0',\n",
       " 'c',\n",
       " 'u',\n",
       " 'd',\n",
       " 'm',\n",
       " 'h',\n",
       " '.',\n",
       " 'w',\n",
       " 'p',\n",
       " 'y',\n",
       " '1',\n",
       " '2',\n",
       " '8',\n",
       " 'g',\n",
       " 'T',\n",
       " 'f',\n",
       " '5',\n",
       " 'E',\n",
       " 'b',\n",
       " 'C',\n",
       " 'S',\n",
       " '7',\n",
       " '4',\n",
       " 'v',\n",
       " 'O',\n",
       " 'k',\n",
       " '3',\n",
       " 'x',\n",
       " '6',\n",
       " 'N',\n",
       " 'R',\n",
       " 'A',\n",
       " '9',\n",
       " '!',\n",
       " 'P',\n",
       " 'I',\n",
       " 'U',\n",
       " ',',\n",
       " 'M',\n",
       " 'W',\n",
       " 'L',\n",
       " 'F',\n",
       " '/',\n",
       " 'D',\n",
       " 'G',\n",
       " 'B',\n",
       " '£',\n",
       " 'H',\n",
       " 'Y',\n",
       " '-',\n",
       " 'X',\n",
       " '&',\n",
       " '?',\n",
       " ':',\n",
       " 'z',\n",
       " 'V',\n",
       " \"'\",\n",
       " 'K',\n",
       " '*',\n",
       " '+',\n",
       " 'j',\n",
       " 'J',\n",
       " ')',\n",
       " '(',\n",
       " 'q',\n",
       " 'Q',\n",
       " '>',\n",
       " '=',\n",
       " '@',\n",
       " '\"',\n",
       " ';',\n",
       " 'Z',\n",
       " '#',\n",
       " '$',\n",
       " '<',\n",
       " '[',\n",
       " ']',\n",
       " '_',\n",
       " '%',\n",
       " '\\x93',\n",
       " '¡',\n",
       " 'ü',\n",
       " '’',\n",
       " 'ú',\n",
       " 'Ü',\n",
       " '‘',\n",
       " '\\x92',\n",
       " '|',\n",
       " '…',\n",
       " '\\x96',\n",
       " 'é',\n",
       " '\\t',\n",
       " '\\n',\n",
       " '\\\\',\n",
       " '~',\n",
       " '\\x91',\n",
       " '\\x94',\n",
       " '^',\n",
       " 'É',\n",
       " 'è',\n",
       " '–',\n",
       " '—']"
      ]
     },
     "execution_count": 18,
     "metadata": {},
     "output_type": "execute_result"
    }
   ],
   "source": [
    "# itos - index to string: list of unique characters. Indices of respective characters within this list can be obtained from stoi\n",
    "text_field.vocab.itos"
   ]
  },
  {
   "cell_type": "markdown",
   "metadata": {
    "colab_type": "text",
    "id": "TC8WVE8Ua90u"
   },
   "source": [
    "### Part (g) [2 pt]\n",
    "\n",
    "The tokens `<unk>` and `<pad>` were not in our SMS text messages.\n",
    "What do these two values represent?"
   ]
  },
  {
   "cell_type": "code",
   "execution_count": null,
   "metadata": {
    "colab": {},
    "colab_type": "code",
    "collapsed": true,
    "id": "y_4Er7KUa90v",
    "jupyter": {
     "outputs_hidden": true
    }
   },
   "outputs": [],
   "source": [
    "# The <unk> token means that the character is not recognized from within the dataset, it's an unknown token\n",
    "# The <pad> token is used to make sure that sequences are of the same length when passing them into the model"
   ]
  },
  {
   "cell_type": "markdown",
   "metadata": {
    "colab_type": "text",
    "id": "Ff5CNk7Qa90y"
   },
   "source": [
    "### Part (h) [2 pt]\n",
    "\n",
    "Since text sequences are of variable length, `torchtext` provides a `BucketIterator` data loader,\n",
    "which batches similar length sequences together. The iterator also provides functionalities to\n",
    "pad sequences automatically.\n",
    "\n",
    "Take a look at 10 batches in `train_iter`. What is the maximum length of the\n",
    "input sequence in each batch? How many `<pad>` tokens are used in each of the 10\n",
    "batches?"
   ]
  },
  {
   "cell_type": "code",
   "execution_count": 19,
   "metadata": {
    "colab": {},
    "colab_type": "code",
    "collapsed": true,
    "id": "V8N8qLWOa90y",
    "jupyter": {
     "outputs_hidden": true
    }
   },
   "outputs": [],
   "source": [
    "train_iter = torchtext.legacy.data.BucketIterator(train,\n",
    "                                           batch_size=32,\n",
    "                                           sort_key=lambda x: len(x.sms), # to minimize padding\n",
    "                                           sort_within_batch=True,        # sort within each batch\n",
    "                                           repeat=False)                  # repeat the iterator for many epochs"
   ]
  },
  {
   "cell_type": "code",
   "execution_count": 53,
   "metadata": {
    "colab": {},
    "colab_type": "code",
    "collapsed": true,
    "id": "Qwz-rOaha902",
    "jupyter": {
     "outputs_hidden": true
    }
   },
   "outputs": [
    {
     "name": "stdout",
     "output_type": "stream",
     "text": [
      "Batch 0: Max Input Sequence Length is 159\n",
      "Batch 0: Number of <pad> tokens used in entire batch is 0\n",
      "Batch 1: Max Input Sequence Length is 118\n",
      "Batch 1: Number of <pad> tokens used in entire batch is 36\n",
      "Batch 2: Max Input Sequence Length is 79\n",
      "Batch 2: Number of <pad> tokens used in entire batch is 73\n",
      "Batch 3: Max Input Sequence Length is 137\n",
      "Batch 3: Number of <pad> tokens used in entire batch is 23\n",
      "Batch 4: Max Input Sequence Length is 156\n",
      "Batch 4: Number of <pad> tokens used in entire batch is 10\n",
      "Batch 5: Max Input Sequence Length is 133\n",
      "Batch 5: Number of <pad> tokens used in entire batch is 28\n",
      "Batch 6: Max Input Sequence Length is 51\n",
      "Batch 6: Number of <pad> tokens used in entire batch is 40\n",
      "Batch 7: Max Input Sequence Length is 130\n",
      "Batch 7: Number of <pad> tokens used in entire batch is 15\n",
      "Batch 8: Max Input Sequence Length is 158\n",
      "Batch 8: Number of <pad> tokens used in entire batch is 0\n",
      "Batch 9: Max Input Sequence Length is 162\n",
      "Batch 9: Number of <pad> tokens used in entire batch is 11\n"
     ]
    }
   ],
   "source": [
    "for i, batch in enumerate(train_iter):\n",
    "    if (i == 10):\n",
    "        break\n",
    "    else:\n",
    "        # Each bucket iterator object batch will return the character indices, as well as the length of the batch\n",
    "        # print(batch.sms)\n",
    "        # Look through character indices tensor and store length\n",
    "        sms_lengths = []\n",
    "        pad_count = 0\n",
    "        for sms in batch.sms[0]:\n",
    "            sms_lengths.append(len(sms))\n",
    "        max_length = max(sms_lengths)\n",
    "        print(\"Batch \" + str(i) + \": \" + \"Max Input Sequence Length is \" + str(max_length))\n",
    "        # Look through length of batch tensor and identify padding based on difference between max length and batch length\n",
    "        for batch_length in batch.sms[1]:\n",
    "            if batch_length.numpy() != max_length:\n",
    "                pad_count += (max_length - batch_length.numpy())\n",
    "        print(\"Batch \" + str(i) + \": \" + \"Number of <pad> tokens used in entire batch is \" + str(pad_count))"
   ]
  },
  {
   "cell_type": "markdown",
   "metadata": {
    "colab_type": "text",
    "id": "y7HnqP6_a904"
   },
   "source": [
    "## Part 2. Model Building [8 pt]\n",
    "\n",
    "Build a recurrent neural network model, using an architecture of your choosing. \n",
    "Use the one-hot embedding of each character as input to your recurrent network.\n",
    "Use one or more fully-connected layers to make the prediction based on your\n",
    "recurrent network output.\n",
    "\n",
    "Instead of using the RNN output value for the final token, another often used\n",
    "strategy is to max-pool over the entire output array. That is, instead of calling\n",
    "something like:\n",
    "\n",
    "```\n",
    "out, _ = self.rnn(x)\n",
    "self.fc(out[:, -1, :])\n",
    "```\n",
    "\n",
    "where `self.rnn` is an `nn.RNN`, `nn.GRU`, or `nn.LSTM` module, and `self.fc` is a \n",
    "fully-connected \n",
    "layer, we use:\n",
    "\n",
    "```\n",
    "out, _ = self.rnn(x)\n",
    "self.fc(torch.max(out, dim=1)[0])\n",
    "```\n",
    "\n",
    "This works reasonably in practice. An even better alternative is to concatenate the\n",
    "max-pooling and average-pooling of the RNN outputs:\n",
    "\n",
    "```\n",
    "out, _ = self.rnn(x)\n",
    "out = torch.cat([torch.max(out, dim=1)[0], \n",
    "                 torch.mean(out, dim=1)], dim=1)\n",
    "self.fc(out)\n",
    "```\n",
    "\n",
    "We encourage you to try out all these options. The way you pool the RNN outputs\n",
    "is one of the \"hyperparameters\" that you can choose to tune later on."
   ]
  },
  {
   "cell_type": "code",
   "execution_count": 57,
   "metadata": {
    "colab": {},
    "colab_type": "code",
    "collapsed": true,
    "id": "jHl1p_Wwa905",
    "jupyter": {
     "outputs_hidden": true
    }
   },
   "outputs": [
    {
     "name": "stdout",
     "output_type": "stream",
     "text": [
      "tensor([1., 0., 0., 0., 0., 0., 0., 0., 0., 0.])\n",
      "tensor([0., 1., 0., 0., 0., 0., 0., 0., 0., 0.])\n",
      "tensor([[[0., 1., 0., 0., 0., 0., 0., 0., 0., 0.],\n",
      "         [0., 0., 1., 0., 0., 0., 0., 0., 0., 0.]],\n",
      "\n",
      "        [[0., 0., 0., 1., 0., 0., 0., 0., 0., 0.],\n",
      "         [0., 0., 0., 0., 1., 0., 0., 0., 0., 0.]]])\n"
     ]
    }
   ],
   "source": [
    "# You might find this code helpful for obtaining\n",
    "# PyTorch one-hot vectors.\n",
    "\n",
    "ident = torch.eye(10)\n",
    "print(ident[0]) # one-hot vector\n",
    "print(ident[1]) # one-hot vector\n",
    "x = torch.tensor([[1, 2], [3, 4]])\n",
    "print(ident[x]) # one-hot vectors"
   ]
  },
  {
   "cell_type": "code",
   "execution_count": 59,
   "metadata": {
    "colab": {},
    "colab_type": "code",
    "collapsed": true,
    "id": "4LTQ7zFka909",
    "jupyter": {
     "outputs_hidden": true
    }
   },
   "outputs": [],
   "source": [
    "class spamGRU(nn.Module):\n",
    "    def __init__(self, vocab_size, hidden_size, n_layers=1):\n",
    "        super(spamGRU, self).__init__()\n",
    "        self.name = \"RNN\"\n",
    "        # Generate one hot encodings of input\n",
    "        self.ident = torch.eye(vocab_size)\n",
    "        # Define RNN\n",
    "        self.rnn = nn.GRU(vocab_size, hidden_size, n_layers, batch_first=True)\n",
    "        # Fully connected layer to output distribution of spam vs not spam\n",
    "        self.decoder = nn.Linear(hidden_size, 2)\n",
    "    \n",
    "    def forward(self, inp, hidden=None):\n",
    "        # Use one hot encodings for embedding tokens since the vocab size is small. Larger vocabs may require glove embeddings to get co-occurance information of a token in relation to the others.\n",
    "        # Since we're building a model on characters, we can assume independence, so one hot encoding is appropriate. If words were token inputs, we would need to adjust for contextual vectors (GloVe)\n",
    "        inp = self.ident[inp]\n",
    "        # Get next output and hidden state\n",
    "        output, hidden = self.rnn(inp, hidden)\n",
    "        # Get prediction distribution over next tokens\n",
    "        output = torch.cat([torch.max(output, dim=1)[0], torch.mean(output, dim=1)], dim=1)\n",
    "        output = self.decoder(output)\n",
    "        return output, hidden"
   ]
  },
  {
   "cell_type": "markdown",
   "metadata": {
    "colab_type": "text",
    "id": "vKIYPl_Ba90_"
   },
   "source": [
    "## Part 3. Training [16 pt]\n",
    "\n",
    "### Part (a) [4 pt]\n",
    "\n",
    "Complete the `get_accuracy` function, which will compute the\n",
    "accuracy (rate) of your model across a dataset (e.g. validation set).\n",
    "You may modify `torchtext.data.BucketIterator` to make your computation\n",
    "faster."
   ]
  },
  {
   "cell_type": "code",
   "execution_count": null,
   "metadata": {
    "colab": {},
    "colab_type": "code",
    "collapsed": true,
    "id": "pvNfhGD6a91A",
    "jupyter": {
     "outputs_hidden": true
    }
   },
   "outputs": [],
   "source": [
    "def get_accuracy(model, data):\n",
    "    \"\"\" Compute the accuracy of the `model` across a dataset `data`\n",
    "    \n",
    "    Example usage:\n",
    "    \n",
    "    >>> model = MyRNN() # to be defined\n",
    "    >>> get_accuracy(model, valid) # the variable `valid` is from above\n",
    "    \"\"\""
   ]
  },
  {
   "cell_type": "markdown",
   "metadata": {
    "colab_type": "text",
    "id": "TlxlcAC1a91C"
   },
   "source": [
    "### Part (b) [4 pt]\n",
    "\n",
    "Train your model. Plot the training curve of your final model. \n",
    "Your training curve should have the training/validation loss and\n",
    "accuracy plotted periodically.\n",
    "\n",
    "Note: Not all of your batches will have the same batch size.\n",
    "In particular, if your training set does not divide evenly by\n",
    "your batch size, there will be a batch that is smaller than\n",
    "the rest. "
   ]
  },
  {
   "cell_type": "code",
   "execution_count": null,
   "metadata": {
    "colab": {},
    "colab_type": "code",
    "collapsed": true,
    "id": "CVtf7CJCa91D",
    "jupyter": {
     "outputs_hidden": true
    }
   },
   "outputs": [],
   "source": []
  },
  {
   "cell_type": "markdown",
   "metadata": {
    "colab_type": "text",
    "id": "fE3eRkDAa91F"
   },
   "source": [
    "### Part (c) [4 pt]\n",
    "\n",
    "Choose at least 4 hyperparameters to tune. Explain how you tuned the hyperparameters.\n",
    "You don't need to include your training curve for every model you trained.\n",
    "Instead, explain what hyperparemters you tuned, what the best validation accuracy was,\n",
    "and the reasoning behind the hyperparameter decisions you made.\n",
    "\n",
    "For this assignment, you should tune more than just your learning rate and epoch. \n",
    "Choose at least 2 hyperparameters that are unrelated to the optimizer."
   ]
  },
  {
   "cell_type": "code",
   "execution_count": null,
   "metadata": {
    "colab": {},
    "colab_type": "code",
    "collapsed": true,
    "id": "A2GEWfDca91G",
    "jupyter": {
     "outputs_hidden": true
    }
   },
   "outputs": [],
   "source": []
  },
  {
   "cell_type": "markdown",
   "metadata": {
    "colab_type": "text",
    "id": "v7DY56rKa91I"
   },
   "source": [
    "### Part (d) [2 pt]\n",
    "\n",
    "Before we deploy a machine learning model, we usually want to have a better understanding\n",
    "of how our model performs beyond its validation accuracy. An important metric to track is\n",
    "*how well our model performs in certain subsets of the data*.\n",
    "\n",
    "In particular, what is the model's error rate amongst data with negative labels?\n",
    "This is called the **false positive rate**.\n",
    "\n",
    "What about the model's error rate amongst data with positive labels?\n",
    "This is called the **false negative rate**.\n",
    "\n",
    "Report your final model's false positive and false negative rate across the\n",
    "validation set."
   ]
  },
  {
   "cell_type": "code",
   "execution_count": null,
   "metadata": {
    "colab": {},
    "colab_type": "code",
    "collapsed": true,
    "id": "7ggbQSdba91J",
    "jupyter": {
     "outputs_hidden": true
    }
   },
   "outputs": [],
   "source": [
    "# Create a Dataset of only spam validation examples\n",
    "valid_spam = torchtext.legacy.data.Dataset(\n",
    "    [e for e in valid.examples if e.label == 1],\n",
    "    valid.fields)\n",
    "# Create a Dataset of only non-spam validation examples\n",
    "valid_nospam = None # TODO"
   ]
  },
  {
   "cell_type": "markdown",
   "metadata": {
    "colab_type": "text",
    "id": "N1iRteb3a91O"
   },
   "source": [
    "### Part (e) [2 pt]\n",
    "\n",
    "The impact of a false positive vs a false negative can be drastically different.\n",
    "If our spam detection algorithm was deployed on your phone, what is the impact\n",
    "of a false positive on the phone's user? What is the impact of a false negative?"
   ]
  },
  {
   "cell_type": "code",
   "execution_count": null,
   "metadata": {
    "colab": {},
    "colab_type": "code",
    "collapsed": true,
    "id": "hFLUOJTGa91Q",
    "jupyter": {
     "outputs_hidden": true
    }
   },
   "outputs": [],
   "source": []
  },
  {
   "cell_type": "markdown",
   "metadata": {
    "colab_type": "text",
    "id": "Gznefulsa91V"
   },
   "source": [
    "## Part 4. Evaluation [11 pt]\n",
    "\n",
    "### Part (a) [1 pt]\n",
    "\n",
    "Report the final test accuracy of your model."
   ]
  },
  {
   "cell_type": "code",
   "execution_count": null,
   "metadata": {
    "colab": {},
    "colab_type": "code",
    "collapsed": true,
    "id": "D5L5D-A1a91W",
    "jupyter": {
     "outputs_hidden": true
    }
   },
   "outputs": [],
   "source": []
  },
  {
   "cell_type": "markdown",
   "metadata": {
    "colab_type": "text",
    "id": "6Hjmd8rca91Y"
   },
   "source": [
    "### Part (b) [3 pt]\n",
    "\n",
    "Report the false positive rate and false negative rate of your model across the test set."
   ]
  },
  {
   "cell_type": "code",
   "execution_count": null,
   "metadata": {
    "colab": {},
    "colab_type": "code",
    "collapsed": true,
    "id": "GFiAKztJa91Z",
    "jupyter": {
     "outputs_hidden": true
    }
   },
   "outputs": [],
   "source": []
  },
  {
   "cell_type": "markdown",
   "metadata": {
    "colab_type": "text",
    "id": "0jGHtQFpa91b"
   },
   "source": [
    "### Part (c) [3 pt]\n",
    "\n",
    "What is your model's prediction of the **probability** that\n",
    "the SMS message \"machine learning is sooo cool!\" is spam?\n",
    "\n",
    "Hint: To begin, use `text_field.vocab.stoi` to look up the index\n",
    "of each character in the vocabulary."
   ]
  },
  {
   "cell_type": "code",
   "execution_count": null,
   "metadata": {
    "colab": {},
    "colab_type": "code",
    "collapsed": true,
    "id": "h_2nSJq8a91b",
    "jupyter": {
     "outputs_hidden": true
    }
   },
   "outputs": [],
   "source": [
    "msg = \"machine learning is sooo cool!\""
   ]
  },
  {
   "cell_type": "markdown",
   "metadata": {
    "colab_type": "text",
    "id": "QD1zgYJpa91f"
   },
   "source": [
    "### Part (d) [4 pt]\n",
    "\n",
    "Do you think detecting spam is an easy or difficult task?\n",
    "\n",
    "Since machine learning models are expensive to train and deploy, it is very\n",
    "important to compare our models against baseline models: a simple\n",
    "model that is easy to build and inexpensive to run that we can compare our\n",
    "recurrent neural network model against.\n",
    "\n",
    "Explain how you might build a simple baseline model. This baseline model\n",
    "can be a simple neural network (with very few weights), a hand-written algorithm,\n",
    "or any other strategy that is easy to build and test.\n",
    "\n",
    "**Do not actually build a baseline model. Instead, provide instructions on\n",
    "how to build it.**"
   ]
  },
  {
   "cell_type": "code",
   "execution_count": null,
   "metadata": {
    "colab": {},
    "colab_type": "code",
    "collapsed": true,
    "id": "LTndp-IOa91g",
    "jupyter": {
     "outputs_hidden": true
    }
   },
   "outputs": [],
   "source": []
  }
 ],
 "metadata": {
  "colab": {
   "collapsed_sections": [],
   "name": "Lab 5 - Spam Detection.ipynb",
   "provenance": []
  },
  "kernelspec": {
   "display_name": "Python 3 (ipykernel)",
   "language": "python",
   "name": "python3"
  },
  "language_info": {
   "codemirror_mode": {
    "name": "ipython",
    "version": 3
   },
   "file_extension": ".py",
   "mimetype": "text/x-python",
   "name": "python",
   "nbconvert_exporter": "python",
   "pygments_lexer": "ipython3",
   "version": "3.9.15"
  }
 },
 "nbformat": 4,
 "nbformat_minor": 4
}

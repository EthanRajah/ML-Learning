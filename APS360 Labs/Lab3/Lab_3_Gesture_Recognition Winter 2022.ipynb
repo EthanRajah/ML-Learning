{
 "cells": [
  {
   "cell_type": "markdown",
   "metadata": {
    "colab_type": "text",
    "id": "X6WDvajSqIDs"
   },
   "source": [
    "# Lab 3: Gesture Recognition using Convolutional Neural Networks\n",
    "\n",
    "**Deadlines**: \n",
    "\n",
    "Mon. Feb 14 at 5:00 PM (Part A)\n",
    "\n",
    "Mon. Feb 28 at 5:00 PM (Part B)\n",
    "\n",
    "**Late Penalty**: There is a penalty-free grace period of one hour past the deadline. Any work that is submitted between 1 hour and 24 hours past the deadline will receive a 20% grade deduction. No other late work is accepted. Quercus submission time will be used, not your local computer time. You can submit your labs as many times as you want before the deadline, so please submit often and early.\n",
    "\n",
    "**Grading TAs**: \n",
    "Geoff Donoghue --  <geoff.donoghue@mail.utoronto.ca>  \n",
    "\n",
    "This lab is based on an assignment developed by Prof. Lisa Zhang.\n",
    "\n",
    "This lab will be completed in two parts. In Part A you will you will gain experience gathering your own data set (specifically images of hand gestures), and understand the challenges involved in the data cleaning process. In Part B you will train a convolutional neural network to make classifications on different hand gestures. By the end of the lab, you should be able to:\n",
    "\n",
    "1. Generate and preprocess your own data\n",
    "2. Load and split data for training, validation and testing\n",
    "3. Train a Convolutional Neural Network\n",
    "4. Apply transfer learning to improve your model\n",
    "\n",
    "Note that for this lab we will not be providing you with any starter code. You should be able to take the code used in previous labs, tutorials and lectures and modify it accordingly to complete the tasks outlined below.\n",
    "\n",
    "### What to submit\n",
    "\n",
    "**Submission for Part A:**  \n",
    "Submit a zip file containing your images. Three images each of American Sign Language gestures for letters A - I (total of 27 images). You will be required to clean the images before submitting them. Details are provided under Part A of the handout.\n",
    "\n",
    "Individual image file names should follow the convention of student-number_Alphabet_file-number.jpg\n",
    "(e.g. 100343434_A_1.jpg).\n",
    "\n",
    "\n",
    "**Submission for Part B:**  \n",
    "Submit a PDF file containing all your code, outputs, and write-up\n",
    "from parts 1-5. You can produce a PDF of your Google Colab file by\n",
    "going to **File > Print** and then save as PDF. The Colab instructions\n",
    "has more information. Make sure to review the PDF submission to ensure that your answers are easy to read. Make sure that your text is not cut off at the margins. \n",
    "\n",
    "**Do not submit any other files produced by your code.**\n",
    "\n",
    "Include a link to your colab file in your submission.\n",
    "\n",
    "Please use Google Colab to complete this assignment. If you want to use Jupyter Notebook, please complete the assignment and upload your Jupyter Notebook file to Google Colab for submission. "
   ]
  },
  {
   "cell_type": "markdown",
   "metadata": {
    "colab_type": "text",
    "id": "LfiFE_WOqIDu"
   },
   "source": [
    "## Colab Link\n",
    "\n",
    "Include a link to your colab file here\n",
    "\n",
    "Colab Link: "
   ]
  },
  {
   "cell_type": "markdown",
   "metadata": {
    "colab_type": "text",
    "id": "kvTXpH_kqIDy"
   },
   "source": [
    "## Part A. Data Collection [10 pt]\n",
    "\n",
    "So far, we have worked with data sets that have been collected, cleaned, and curated by machine learning\n",
    "researchers and practitioners. Datasets like MNIST and CIFAR are often used as toy examples, both by\n",
    "students and by researchers testing new machine learning models.\n",
    "\n",
    "In the real world, getting a clean data set is never that easy. More than half the work in applying machine\n",
    "learning is finding, gathering, cleaning, and formatting your data set.\n",
    "\n",
    "The purpose of this lab is to help you gain experience gathering your own data set, and understand the\n",
    "challenges involved in the data cleaning process.\n",
    "\n",
    "### American Sign Language\n",
    "\n",
    "American Sign Language (ASL) is a complete, complex language that employs signs made by moving the\n",
    "hands combined with facial expressions and postures of the body. It is the primary language of many\n",
    "North Americans who are deaf and is one of several communication options used by people who are deaf or\n",
    "hard-of-hearing.\n",
    "\n",
    "The hand gestures representing English alphabet are shown below. This lab focuses on classifying a subset\n",
    "of these hand gesture images using convolutional neural networks. Specifically, given an image of a hand\n",
    "showing one of the letters A-I, we want to detect which letter is being represented.\n",
    "\n",
    "![alt text](https://www.disabled-world.com/pics/1/asl-alphabet.jpg)\n",
    "\n",
    "\n",
    "### Generating Data\n",
    "We will produce the images required for this lab by ourselves. Each student will collect, clean and submit\n",
    "three images each of Americal Sign Language gestures for letters A - I (total of 27 images)\n",
    "Steps involved in data collection\n",
    "\n",
    "1. Familiarize yourself with American Sign Language gestures for letters from A - I (9 letters).\n",
    "2. Take three pictures at slightly different orientation for each letter gesture using your\n",
    "mobile phone.\n",
    " - Ensure adequate lighting while you are capturing the images.\n",
    " - Use a white wall as your background.\n",
    " - Use your right hand to create gestures (for consistency).\n",
    " - Keep your right hand fairly apart from your body and any other obstructions.\n",
    " - Avoid having shadows on parts of your hand.\n",
    "3. Transfer the images to your laptop for cleaning.\n",
    "\n",
    "### Cleaning Data\n",
    "To simplify the machine learning the task, we will standardize the training images. We will make sure that\n",
    "all our images are of the same size (224 x 224 pixels RGB), and have the hand in the center of the cropped\n",
    "regions.\n",
    "\n",
    "You may use the following applications to crop and resize your images:\n",
    "\n",
    "**Mac**\n",
    "- Use Preview:\n",
    "– Holding down CMD + Shift will keep a square aspect ratio while selecting the hand area.\n",
    "– Resize to 224x224 pixels.\n",
    "\n",
    "**Windows 10**\n",
    "- Use Photos app to edit and crop the image and keep the aspect ratio a square.\n",
    "- Use Paint to resize the image to the final image size of 224x224 pixels.\n",
    "\n",
    "**Linux**\n",
    "- You can use GIMP, imagemagick, or other tools of your choosing.\n",
    "You may also use online tools such as http://picresize.com\n",
    "All the above steps are illustrative only. You need not follow these steps but following these will ensure that\n",
    "you produce a good quality dataset. You will be judged based on the quality of the images alone.\n",
    "Please do not edit your photos in any other way. You should not need to change the aspect ratio of your\n",
    "image. You also should not digitally remove the background or shadows—instead, take photos with a white\n",
    "background and minimal shadows.\n",
    "\n",
    "### Accepted Images\n",
    "Images will be accepted and graded based on the criteria below\n",
    "1. The final image should be size 224x224 pixels (RGB).\n",
    "2. The file format should be a .jpg file.\n",
    "3. The hand should be approximately centered on the frame.\n",
    "4. The hand should not be obscured or cut off.\n",
    "5. The photos follows the ASL gestures posted earlier.\n",
    "6. The photos were not edited in any other way (e.g. no electronic removal of shadows or background).\n",
    "\n",
    "### Submission\n",
    "Submit a zip file containing your images. There should be a total of 27 images (3 for each category)\n",
    "1. Individual image file names should follow the convention of student-number_Alphabet_file-number.jpg\n",
    "(e.g. 100343434_A_1.jpg)\n",
    "2. Zip all the images together and name it with the following convention: last-name_student-number.zip\n",
    "(e.g. last-name_100343434.zip).\n",
    "3. Submit the zipped folder.\n",
    "We will be anonymizing and combining the images that everyone submits. We will announce when the\n",
    "combined data set will be available for download.\n",
    "\n",
    "![alt text](https://github.com/UTNeural/APS360/blob/master/Gesture%20Images.PNG?raw=true)"
   ]
  },
  {
   "cell_type": "markdown",
   "metadata": {
    "colab_type": "text",
    "id": "bJxMgWGNqID2"
   },
   "source": [
    "## Part B. Building a CNN [50 pt]\n",
    "\n",
    "For this lab, we are not going to give you any starter code. You will be writing a convolutional neural network\n",
    "from scratch. You are welcome to use any code from previous labs, lectures and tutorials. You should also\n",
    "write your own code.\n",
    "\n",
    "You may use the PyTorch documentation freely. You might also find online tutorials helpful. However, all\n",
    "code that you submit must be your own.\n",
    "\n",
    "Make sure that your code is vectorized, and does not contain obvious inefficiencies (for example, unecessary\n",
    "for loops, or unnecessary calls to unsqueeze()). Ensure enough comments are included in the code so that\n",
    "your TA can understand what you are doing. It is your responsibility to show that you understand what you\n",
    "write.\n",
    "\n",
    "**This is much more challenging and time-consuming than the previous labs.** Make sure that you\n",
    "give yourself plenty of time by starting early."
   ]
  },
  {
   "cell_type": "markdown",
   "metadata": {
    "colab_type": "text",
    "id": "MiDuQaAh56sT"
   },
   "source": [
    "### 1. Data Loading and Splitting [5 pt]\n",
    "\n",
    "Download the anonymized data provided on Quercus. To allow you to get a heads start on this project we will provide you with sample data from previous years. Split the data into training, validation, and test sets.\n",
    "\n",
    "Note: Data splitting is not as trivial in this lab. We want our test set to closely resemble the setting in which\n",
    "our model will be used. In particular, our test set should contain hands that are never seen in training!\n",
    "\n",
    "Explain how you split the data, either by describing what you did, or by showing the code that you used.\n",
    "Justify your choice of splitting strategy. How many training, validation, and test images do you have?\n",
    "\n",
    "For loading the data, you can use plt.imread as in Lab 1, or any other method that you choose. You may find\n",
    "torchvision.datasets.ImageFolder helpful. (see https://pytorch.org/docs/stable/torchvision/datasets.html?highlight=image%20folder#torchvision.datasets.ImageFolder\n",
    ") "
   ]
  },
  {
   "cell_type": "code",
   "execution_count": 141,
   "metadata": {},
   "outputs": [],
   "source": [
    "import torch\n",
    "import torch.nn as nn\n",
    "import numpy as np\n",
    "from torch.utils.data.sampler import SubsetRandomSampler\n",
    "import torchvision\n",
    "import torchvision.transforms as transforms\n",
    "import torch.nn.functional as F\n",
    "import time\n",
    "import matplotlib.pyplot as plt"
   ]
  },
  {
   "cell_type": "code",
   "execution_count": 2,
   "metadata": {
    "colab": {},
    "colab_type": "code",
    "collapsed": true,
    "id": "WBrH5kBqRLa6"
   },
   "outputs": [],
   "source": [
    "def organize_class_indices(data, classes):\n",
    "    '''Create dictionary containing indice locations of each class in data object'''\n",
    "    ind_dict = dict()\n",
    "    for i in range(len(data)):\n",
    "        class_int = data[i][1]\n",
    "        if classes[class_int] not in ind_dict:\n",
    "            ind_dict[classes[class_int]] = [i]\n",
    "        else:\n",
    "            ind_dict[classes[class_int]].append(i)\n",
    "    return ind_dict\n",
    "\n",
    "def load_data(data_path, classes, batch_size):\n",
    "    '''Load data and split into training, validation and test sets'''\n",
    "    # Load data and normalize\n",
    "    transform = transforms.Compose([transforms.ToTensor(), transforms.Normalize((0.5, 0.5, 0.5), (0.5, 0.5, 0.5))]) # Convert PIL images to tensors and normalize in range [-1,1]\n",
    "    data = torchvision.datasets.ImageFolder(data_path, transform) # returns data object, with format (tensor, label int)\n",
    "\n",
    "    # Split data into 70% training, %18 validation, 12% testing per class\n",
    "    class_ind_dict = organize_class_indices(data, classes)\n",
    "    np.random.seed(1000)\n",
    "    train_inds = []\n",
    "    val_inds = []\n",
    "    test_inds = []\n",
    "    for classType in classes:\n",
    "        np.random.shuffle(class_ind_dict[classType])\n",
    "        split = int(len(class_ind_dict[classType]) * 0.7)\n",
    "        train_inds.extend(class_ind_dict[classType][:split])\n",
    "        remain_split = split + int(len(class_ind_dict[classType][split:]) * 0.6)\n",
    "        val_inds.extend(class_ind_dict[classType][split:remain_split])\n",
    "        test_inds.extend(class_ind_dict[classType][remain_split:])\n",
    "    \n",
    "    # Using the randomized training, validation and test indices lists, create iterable data object for each\n",
    "    train_sampler = SubsetRandomSampler(train_inds)\n",
    "    train_loader = torch.utils.data.DataLoader(data, batch_size=batch_size, num_workers=1, sampler=train_sampler)\n",
    "    val_sampler = SubsetRandomSampler(val_inds)\n",
    "    val_loader = torch.utils.data.DataLoader(data, batch_size=batch_size, num_workers=1, sampler=val_sampler)\n",
    "    test_sampler = SubsetRandomSampler(test_inds)\n",
    "    test_loader = torch.utils.data.DataLoader(data, batch_size=batch_size, num_workers=1, sampler=test_sampler)\n",
    "\n",
    "    return train_loader, val_loader, test_loader"
   ]
  },
  {
   "cell_type": "code",
   "execution_count": 44,
   "metadata": {},
   "outputs": [],
   "source": [
    "classes = ('A', 'B', 'C', 'D', 'E', 'F', 'G', 'H', 'I')\n",
    "batch_size = 64\n",
    "#train_loader, val_loader, test_loader = load_data(\"Gestures/Lab3_Gestures_W22\", classes, batch_size)"
   ]
  },
  {
   "cell_type": "markdown",
   "metadata": {
    "colab_type": "text",
    "id": "5VWX4DGY5gQE"
   },
   "source": [
    "### 2. Model Building and Sanity Checking [15 pt]\n",
    "\n",
    "### Part (a) Convolutional Network - 5 pt\n",
    "\n",
    "Build a convolutional neural network model that takes the (224x224 RGB) image as input, and predicts the gesture\n",
    "letter. Your model should be a subclass of nn.Module. Explain your choice of neural network architecture: how\n",
    "many layers did you choose? What types of layers did you use? Were they fully-connected or convolutional?\n",
    "What about other decisions like pooling layers, activation functions, number of channels / hidden units?"
   ]
  },
  {
   "cell_type": "code",
   "execution_count": 69,
   "metadata": {
    "colab": {},
    "colab_type": "code",
    "collapsed": true,
    "id": "2dtx1z5951fS"
   },
   "outputs": [],
   "source": [
    "class CNN(nn.Module):\n",
    "    def __init__(self):\n",
    "        super(CNN, self).__init__()\n",
    "        # Feature maps should increase as we get deeper in the network, whereas dimension size should decrease\n",
    "        self.name = \"cnn\"\n",
    "        self.conv1 = nn.Conv2d(3,8,5) # Input channels: based on image type (RGB). Output channels: based on number of filters used, where each filter creates a feature map, also referred to as a channel\n",
    "                                      # to capture different information about the image. Kernel size. 220x220x8\n",
    "        self.pool = nn.MaxPool2d(2,2) # kernel size, stride. 110x110x8\n",
    "        self.conv2 = nn.Conv2d(8,16,5) # 106x106x16\n",
    "        self.fc1 = nn.Linear(16*53*53,100) # After applying another pooling layer, 53x53x16. Apply linear layer to go from 53x53x16 to 100\n",
    "        self.fc2 = nn.Linear(100,9) # 9 classes to select between\n",
    "\n",
    "    def forward(self, x):\n",
    "        x = self.pool(F.relu(self.conv1(x)))\n",
    "        x = self.pool(F.relu(self.conv2(x)))\n",
    "        x = x.view(-1, 53*53*16) # Reshape tensor\n",
    "        x = F.relu(self.fc1(x))\n",
    "        x = self.fc2(x) # Don't want to apply activation here since we should have one result/prediction value at this point\n",
    "        x = x.squeeze(1) # Flatten to batch size\n",
    "        return x\n"
   ]
  },
  {
   "cell_type": "markdown",
   "metadata": {
    "colab_type": "text",
    "id": "XeGvelvb515e"
   },
   "source": [
    "### Part (b) Training Code - 5 pt\n",
    "\n",
    "Write code that trains your neural network given some training data. Your training code should make it easy\n",
    "to tweak the usual hyperparameters, like batch size, learning rate, and the model object itself. Make sure\n",
    "that you are checkpointing your models from time to time (the frequency is up to you). Explain your choice\n",
    "of loss function and optimizer."
   ]
  },
  {
   "cell_type": "code",
   "execution_count": 142,
   "metadata": {
    "colab": {},
    "colab_type": "code",
    "collapsed": true,
    "id": "17YTQv4l54W1"
   },
   "outputs": [],
   "source": [
    "def evaluate(model, loader, criterion):\n",
    "    '''Evaluate model performance on given loader set'''\n",
    "    total_epoch = 0\n",
    "    total_err = 0.0\n",
    "    total_loss = 0.0\n",
    "    for i, data in enumerate(loader):\n",
    "        # Run current model through data and calculate loss\n",
    "        inputs, labels = data\n",
    "        outputs = model(inputs)\n",
    "        output_inds = torch.softmax(outputs, dim=1).argmax(dim=1)\n",
    "        loss = criterion(outputs, labels.long())\n",
    "        # Count error and sum loss of model against true labels for the whole dataset\n",
    "        corr = output_inds != labels\n",
    "        total_err += int(sum(corr))\n",
    "        total_loss += loss.item()\n",
    "        total_epoch += len(list(labels))\n",
    "    # Calculate total error and loss among the entire dataset\n",
    "    eval_err = total_err / total_epoch \n",
    "    eval_loss = total_loss / (i+1)\n",
    "\n",
    "    return eval_err, eval_loss\n",
    "    \n",
    "def train_model(model, lr, epochs, train_set, val_set):\n",
    "    '''Use training and validation sets to perform forward and backpropagation on the model'''\n",
    "    torch.manual_seed(1000)\n",
    "\n",
    "    # Initialize loss/error arrays, optimizer, and loss function\n",
    "    criterion = nn.CrossEntropyLoss() # Cross Entropy loss tends to be the best for classification problems. Expects input to be unnormalized logits (batch_size, C) and target class indices (C) where C=9\n",
    "    optimizer = torch.optim.Adam(model.parameters(), lr) # Adam optimizer is faster and more efficient than regular SGD\n",
    "    train_err = np.zeros(epochs)\n",
    "    train_loss = np.zeros(epochs)\n",
    "    val_err = np.zeros(epochs)\n",
    "    val_loss = np.zeros(epochs)\n",
    "\n",
    "    # Training loop - iterate over training data, # of epochs times. Pytorch NN class will deal with weight adjusting as we perform back propagation and optimize\n",
    "    start_time = time.time()\n",
    "    for epoch in range(epochs):\n",
    "        total_epoch = 0\n",
    "        total_err = 0.0\n",
    "        total_loss = 0.0\n",
    "        for i, data in enumerate(train_set):\n",
    "            inputs, labels = data # data loader provides [tensor, label] format. Loader is also seperated into batches based on our chosen batch size\n",
    "            optimizer.zero_grad() # Zero gradients before starting\n",
    "            outputs = model(inputs)\n",
    "            output_inds = torch.softmax(outputs, dim=1).argmax(dim=1) # Get highest probability value among 9 outputs per image in batch. Store the indice that corresponds to \n",
    "                                                                      # highest probability as our labels correspond to indices. Softmax will generate normalized distribution                                                                                                               \n",
    "            loss = criterion(outputs, labels.long()) # calculate loss based on raw logits\n",
    "            loss.backward() # gradient backpropagation\n",
    "            optimizer.step() # updating weights by descending from loss gradients\n",
    "\n",
    "            # Calculate error/loss from training batch step\n",
    "            corr = output_inds != labels\n",
    "            total_err += int(sum(corr))\n",
    "            total_loss += loss.item() # Extract loss value as float\n",
    "            total_epoch += len(list(labels))\n",
    "        train_err[epoch] = total_err / total_epoch # Average number of times model was wrong\n",
    "        train_loss[epoch] = total_loss / (i+1) # Average loss over one iteration of training data\n",
    "        val_err[epoch], val_loss[epoch] = evaluate(model, val_set, criterion)\n",
    "    \n",
    "        # Print out epoch information regarding error and loss\n",
    "        print((\"Epoch {}: Train err: {}, Train loss: {} |\" \"Validation err: {}, Validation loss: {}\").format(epoch + 1, train_err[epoch], train_loss[epoch], val_err[epoch], val_loss[epoch]))\n",
    "    print('Finished Training')\n",
    "    end_time = time.time()\n",
    "    elapsed_time = end_time - start_time\n",
    "    print(\"Total time elapsed: {:.2f} seconds\".format(elapsed_time))\n",
    "\n",
    "    # Plot loss and error curves\n",
    "    plt.title(\"Train vs Validation Error\")\n",
    "    plt.plot(range(1,epochs+1), train_err, label=\"Train\")\n",
    "    plt.plot(range(1,epochs+1), val_err, label=\"Validation\")\n",
    "    plt.xlabel(\"Epoch\")\n",
    "    plt.ylabel(\"Error\")\n",
    "    plt.legend(loc='best')\n",
    "    plt.show()\n",
    "\n",
    "    plt.title(\"Train vs Validation Loss\")\n",
    "    plt.plot(range(1,epochs+1), train_loss, label=\"Train\")\n",
    "    plt.plot(range(1,epochs+1), val_loss, label=\"Validation\")\n",
    "    plt.xlabel(\"Epoch\")\n",
    "    plt.ylabel(\"Loss\")\n",
    "    plt.legend(loc='best')\n",
    "    plt.show()\n"
   ]
  },
  {
   "cell_type": "markdown",
   "metadata": {
    "colab_type": "text",
    "id": "bk1RNgAj54rZ"
   },
   "source": [
    "### Part (c) “Overfit” to a Small Dataset - 5 pt\n",
    "\n",
    "One way to sanity check our neural network model and training code is to check whether the model is capable\n",
    "of “overfitting” or “memorizing” a small dataset. A properly constructed CNN with correct training code\n",
    "should be able to memorize the answers to a small number of images quickly.\n",
    "\n",
    "Construct a small dataset (e.g. just the images that you have collected). Then show that your model and\n",
    "training code is capable of memorizing the labels of this small data set.\n",
    "\n",
    "With a large batch size (e.g. the entire small dataset) and learning rate that is not too high, You should be\n",
    "able to obtain a 100% training accuracy on that small dataset relatively quickly (within 200 iterations)."
   ]
  },
  {
   "cell_type": "code",
   "execution_count": 143,
   "metadata": {
    "colab": {},
    "colab_type": "code",
    "collapsed": true,
    "id": "lXYRBhQO6d3u"
   },
   "outputs": [
    {
     "name": "stdout",
     "output_type": "stream",
     "text": [
      "Epoch 1: Train err: 0.8333333333333334, Train loss: 2.19816517829895 |Validation err: 0.4444444444444444, Validation loss: 1.619628667831421\n",
      "Epoch 2: Train err: 0.4444444444444444, Train loss: 1.6196285486221313 |Validation err: 0.16666666666666666, Validation loss: 0.7399643063545227\n",
      "Epoch 3: Train err: 0.16666666666666666, Train loss: 0.7399642467498779 |Validation err: 0.0, Validation loss: 0.1954071968793869\n",
      "Epoch 4: Train err: 0.0, Train loss: 0.1954072117805481 |Validation err: 0.0, Validation loss: 0.05007914826273918\n",
      "Epoch 5: Train err: 0.0, Train loss: 0.05007914453744888 |Validation err: 0.0, Validation loss: 0.012480810284614563\n",
      "Epoch 6: Train err: 0.0, Train loss: 0.012480809353291988 |Validation err: 0.0, Validation loss: 0.002119402401149273\n",
      "Epoch 7: Train err: 0.0, Train loss: 0.002119402401149273 |Validation err: 0.0, Validation loss: 0.00046276155626401305\n",
      "Epoch 8: Train err: 0.0, Train loss: 0.00046276155626401305 |Validation err: 0.0, Validation loss: 0.0001527784625068307\n",
      "Epoch 9: Train err: 0.0, Train loss: 0.0001527784625068307 |Validation err: 0.0, Validation loss: 5.730323027819395e-05\n",
      "Epoch 10: Train err: 0.0, Train loss: 5.7303223002236336e-05 |Validation err: 0.0, Validation loss: 2.226978904218413e-05\n",
      "Finished Training\n",
      "Total time elapsed: 72.21 seconds\n"
     ]
    },
    {
     "data": {
      "image/png": "[encoded data removed]",
      "text/plain": [
       "<Figure size 640x480 with 1 Axes>"
      ]
     },
     "metadata": {},
     "output_type": "display_data"
    },
    {
     "data": {
      "image/png": "[encoded data removed]",
      "text/plain": [
       "<Figure size 640x480 with 1 Axes>"
      ]
     },
     "metadata": {},
     "output_type": "display_data"
    }
   ],
   "source": [
    "train_loader, val_loader, test_loader = load_data(\"Gestures/ManualDataCleaning\", classes, batch_size=27) # Load small dataset\n",
    "model = CNN() # Initialize model\n",
    "train_model(model, lr=0.001, epochs=10, train_set=train_loader, val_set=train_loader)"
   ]
  },
  {
   "cell_type": "markdown",
   "metadata": {
    "colab_type": "text",
    "id": "nvDLw-Vz6eVS"
   },
   "source": [
    "### 3. Hyperparameter Search [10 pt]\n",
    "\n",
    "### Part (a) - 1 pt\n",
    "\n",
    "List 3 hyperparameters that you think are most worth tuning. Choose at least one hyperparameter related to\n",
    "the model architecture."
   ]
  },
  {
   "cell_type": "code",
   "execution_count": null,
   "metadata": {
    "colab": {},
    "colab_type": "code",
    "collapsed": true,
    "id": "HXRQbgMqR_Qy"
   },
   "outputs": [],
   "source": []
  },
  {
   "cell_type": "markdown",
   "metadata": {
    "colab_type": "text",
    "id": "zeD6EzPB6kSW"
   },
   "source": [
    "### Part (b) - 5 pt\n",
    "\n",
    "Tune the hyperparameters you listed in Part (a), trying as many values as you need to until you feel satisfied\n",
    "that you are getting a good model. Plot the training curve of at least 4 different hyperparameter settings."
   ]
  },
  {
   "cell_type": "code",
   "execution_count": null,
   "metadata": {
    "colab": {},
    "colab_type": "code",
    "collapsed": true,
    "id": "UkvdR-cB6nzm"
   },
   "outputs": [],
   "source": []
  },
  {
   "cell_type": "markdown",
   "metadata": {
    "colab_type": "text",
    "id": "H93iN5_l60BO"
   },
   "source": [
    "### Part (c) - 2 pt\n",
    "Choose the best model out of all the ones that you have trained. Justify your choice."
   ]
  },
  {
   "cell_type": "code",
   "execution_count": null,
   "metadata": {
    "colab": {},
    "colab_type": "code",
    "collapsed": true,
    "id": "kIhcN7IG6zRO"
   },
   "outputs": [],
   "source": []
  },
  {
   "cell_type": "markdown",
   "metadata": {
    "colab_type": "text",
    "id": "QzNA5oup67JO"
   },
   "source": [
    "### Part (d) - 2 pt\n",
    "Report the test accuracy of your best model. You should only do this step once and prior to this step you should have only used the training and validation data."
   ]
  },
  {
   "cell_type": "code",
   "execution_count": null,
   "metadata": {
    "colab": {},
    "colab_type": "code",
    "collapsed": true,
    "id": "2eJ7AbVl6-ax"
   },
   "outputs": [],
   "source": []
  },
  {
   "cell_type": "markdown",
   "metadata": {
    "colab_type": "text",
    "id": "Wrem-iXV6_Bz"
   },
   "source": [
    "### 4. Transfer Learning [15 pt]\n",
    "For many image classification tasks, it is generally not a good idea to train a very large deep neural network\n",
    "model from scratch due to the enormous compute requirements and lack of sufficient amounts of training\n",
    "data.\n",
    "\n",
    "One of the better options is to try using an existing model that performs a similar task to the one you need\n",
    "to solve. This method of utilizing a pre-trained network for other similar tasks is broadly termed **Transfer\n",
    "Learning**. In this assignment, we will use Transfer Learning to extract features from the hand gesture\n",
    "images. Then, train a smaller network to use these features as input and classify the hand gestures.\n",
    "\n",
    "As you have learned from the CNN lecture, convolution layers extract various features from the images which\n",
    "get utilized by the fully connected layers for correct classification. AlexNet architecture played a pivotal\n",
    "role in establishing Deep Neural Nets as a go-to tool for image classification problems and we will use an\n",
    "ImageNet pre-trained AlexNet model to extract features in this assignment."
   ]
  },
  {
   "cell_type": "markdown",
   "metadata": {
    "colab_type": "text",
    "id": "rWdQJz4Q7O2F"
   },
   "source": [
    "### Part (a) - 5 pt\n",
    "Here is the code to load the AlexNet network, with pretrained weights. When you first run the code, PyTorch\n",
    "will download the pretrained weights from the internet."
   ]
  },
  {
   "cell_type": "code",
   "execution_count": null,
   "metadata": {
    "colab": {},
    "colab_type": "code",
    "collapsed": true,
    "id": "BJKcTW9C7TZk"
   },
   "outputs": [],
   "source": [
    "import torchvision.models\n",
    "alexnet = torchvision.models.alexnet(pretrained=True)"
   ]
  },
  {
   "cell_type": "markdown",
   "metadata": {
    "colab_type": "text",
    "id": "NQ0GZYaP7VAR"
   },
   "source": [
    "The alexnet model is split up into two components: *alexnet.features* and *alexnet.classifier*. The\n",
    "first neural network component, *alexnet.features*, is used to compute convolutional features, which are\n",
    "taken as input in *alexnet.classifier*.\n",
    "\n",
    "The neural network alexnet.features expects an image tensor of shape Nx3x224x224 as input and it will\n",
    "output a tensor of shape Nx256x6x6 . (N = batch size).\n",
    "\n",
    "Compute the AlexNet features for each of your training, validation, and test data. Here is an example code\n",
    "snippet showing how you can compute the AlexNet features for some images (your actual code might be\n",
    "different):"
   ]
  },
  {
   "cell_type": "code",
   "execution_count": null,
   "metadata": {
    "colab": {},
    "colab_type": "code",
    "collapsed": true,
    "id": "oX7SjVdB7XAE"
   },
   "outputs": [],
   "source": [
    "# img = ... a PyTorch tensor with shape [N,3,224,224] containing hand images ...\n",
    "features = alexnet.features(img)"
   ]
  },
  {
   "cell_type": "markdown",
   "metadata": {
    "colab_type": "text",
    "id": "DYcjHg_A7cCM"
   },
   "source": [
    "**Save the computed features**. You will be using these features as input to your neural network in Part\n",
    "(b), and you do not want to re-compute the features every time. Instead, run *alexnet.features* once for\n",
    "each image, and save the result."
   ]
  },
  {
   "cell_type": "code",
   "execution_count": null,
   "metadata": {
    "colab": {},
    "colab_type": "code",
    "collapsed": true,
    "id": "TBo1BpL373LX"
   },
   "outputs": [],
   "source": []
  },
  {
   "cell_type": "markdown",
   "metadata": {
    "colab_type": "text",
    "id": "OFWvvhFN73qY"
   },
   "source": [
    "### Part (b) - 3 pt\n",
    "Build a convolutional neural network model that takes as input these AlexNet features, and makes a\n",
    "prediction. Your model should be a subclass of nn.Module.\n",
    "\n",
    "Explain your choice of neural network architecture: how many layers did you choose? What types of layers\n",
    "did you use: fully-connected or convolutional? What about other decisions like pooling layers, activation\n",
    "functions, number of channels / hidden units in each layer?\n",
    "\n",
    "Here is an example of how your model may be called:"
   ]
  },
  {
   "cell_type": "code",
   "execution_count": null,
   "metadata": {
    "colab": {},
    "colab_type": "code",
    "collapsed": true,
    "id": "oVTuHUeV78-U"
   },
   "outputs": [],
   "source": [
    "# features = ... load precomputed alexnet.features(img) ...\n",
    "output = model(features)\n",
    "prob = F.softmax(output)"
   ]
  },
  {
   "cell_type": "markdown",
   "metadata": {
    "colab_type": "text",
    "id": "wVAGuURu7-9q"
   },
   "source": [
    "### Part (c) - 5 pt\n",
    "Train your new network, including any hyperparameter tuning. Plot and submit the training curve of your\n",
    "best model only.\n",
    "\n",
    "Note: Depending on how you are caching (saving) your AlexNet features, PyTorch might still be tracking\n",
    "updates to the **AlexNet weights**, which we are not tuning. One workaround is to convert your AlexNet\n",
    "feature tensor into a numpy array, and then back into a PyTorch tensor."
   ]
  },
  {
   "cell_type": "code",
   "execution_count": null,
   "metadata": {
    "colab": {},
    "colab_type": "code",
    "collapsed": true,
    "id": "JCmiH11x7-q1"
   },
   "outputs": [],
   "source": [
    "tensor = torch.from_numpy(tensor.detach().numpy())"
   ]
  },
  {
   "cell_type": "markdown",
   "metadata": {
    "colab_type": "text",
    "id": "hQ2tvqJ68Mqb"
   },
   "source": [
    "### Part (d) - 2 pt\n",
    "Report the test accuracy of your best model. How does the test accuracy compare to Part 3(d) without transfer learning?"
   ]
  },
  {
   "cell_type": "code",
   "execution_count": null,
   "metadata": {
    "colab": {},
    "colab_type": "code",
    "collapsed": true,
    "id": "yCp_kFSg8Q2T"
   },
   "outputs": [],
   "source": []
  },
  {
   "cell_type": "markdown",
   "metadata": {},
   "source": [
    "### 5. Additional Testing [5 pt]\n",
    "As a final step in testing we will be revisiting the sample images that you had collected and submitted at the start of this lab. These sample images should be untouched and will be used to demonstrate how well your model works at identifying your hand guestures. \n",
    "\n",
    "Using the best transfer learning model developed in Part 4. Report the test accuracy on your sample images and how it compares to the test accuracy obtained in Part 4(d)? How well did your model do for the different hand guestures? Provide an explanation for why you think your model performed the way it did?"
   ]
  },
  {
   "cell_type": "code",
   "execution_count": null,
   "metadata": {
    "collapsed": true
   },
   "outputs": [],
   "source": []
  }
 ],
 "metadata": {
  "colab": {
   "collapsed_sections": [],
   "name": "Lab 3 - Gesture Recognition.ipynb",
   "provenance": []
  },
  "kernelspec": {
   "display_name": "Python 3 (ipykernel)",
   "language": "python",
   "name": "python3"
  },
  "language_info": {
   "codemirror_mode": {
    "name": "ipython",
    "version": 3
   },
   "file_extension": ".py",
   "mimetype": "text/x-python",
   "name": "python",
   "nbconvert_exporter": "python",
   "pygments_lexer": "ipython3",
   "version": "3.9.15"
  }
 },
 "nbformat": 4,
 "nbformat_minor": 1
}
